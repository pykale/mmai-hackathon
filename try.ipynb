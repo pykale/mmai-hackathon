{
 "cells": [
  {
   "cell_type": "code",
   "execution_count": 1,
   "id": "f6d69c1a",
   "metadata": {},
   "outputs": [],
   "source": [
    "ecg_root = 'mimic-iv/mimic-iv-ecg-diagnostic-electrocardiogram-matched-subset-1.0/'\n",
    "echo_root = 'mimic-iv/mimic-iv-echo-0.1.physionet.org/'\n",
    "ehr_root = 'mimic-iv/mimic-iv-3.1/'"
   ]
  },
  {
   "cell_type": "code",
   "execution_count": 2,
   "id": "c391dde8",
   "metadata": {},
   "outputs": [],
   "source": [
    "from mmai25_hackathon.load_data.ecg import * \n",
    "from mmai25_hackathon.load_data.echo import * \n",
    "from mmai25_hackathon.load_data.ehr import * "
   ]
  },
  {
   "cell_type": "code",
   "execution_count": 9,
   "id": "e6cf19b4",
   "metadata": {},
   "outputs": [],
   "source": [
    "record = load_mimic_iv_ecg_record_list(ecg_root)"
   ]
  },
  {
   "cell_type": "code",
   "execution_count": 4,
   "id": "2649c7ad",
   "metadata": {},
   "outputs": [],
   "source": [
    "from group_code.mm_dataset import *"
   ]
  },
  {
   "cell_type": "code",
   "execution_count": 5,
   "id": "221279ec",
   "metadata": {},
   "outputs": [
    {
     "data": {
      "text/plain": [
       "{'ecg': {np.int64(101): [array([[ 0.02 ,  0.06 ,  0.04 , ...,  0.035,  0.42 , -0.28 ],\n",
       "          [ 0.   ,  0.075,  0.075, ...,  0.045,  0.41 , -0.295],\n",
       "          [-0.015,  0.075,  0.09 , ...,  0.055,  0.4  , -0.3  ],\n",
       "          ...,\n",
       "          [-0.015, -0.015,  0.   , ..., -0.235,  0.34 , -0.065],\n",
       "          [ 0.   , -0.015, -0.015, ..., -0.235,  0.34 , -0.065],\n",
       "          [ 0.   , -0.02 , -0.02 , ..., -0.225,  0.34 , -0.065]],\n",
       "         shape=(5000, 12)),\n",
       "   {'fs': 500,\n",
       "    'sig_len': 5000,\n",
       "    'n_sig': 12,\n",
       "    'base_date': datetime.date(2180, 8, 6),\n",
       "    'base_time': datetime.time(9, 7),\n",
       "    'units': ['mV',\n",
       "     'mV',\n",
       "     'mV',\n",
       "     'mV',\n",
       "     'mV',\n",
       "     'mV',\n",
       "     'mV',\n",
       "     'mV',\n",
       "     'mV',\n",
       "     'mV',\n",
       "     'mV',\n",
       "     'mV'],\n",
       "    'sig_name': ['I',\n",
       "     'II',\n",
       "     'III',\n",
       "     'aVR',\n",
       "     'aVF',\n",
       "     'aVL',\n",
       "     'V1',\n",
       "     'V2',\n",
       "     'V3',\n",
       "     'V4',\n",
       "     'V5',\n",
       "     'V6'],\n",
       "    'comments': ['<subject_id>: 101']}]},\n",
       " 'ehr': {np.int64(101):    subject_id  hadm_id         admittime  \\\n",
       "  0         101        1  24/02/2196 14:38   \n",
       "  1         101        2  17/09/2153 17:08   \n",
       "  2         101        3  18/08/2134 02:02   \n",
       "  \n",
       "                                      first_careunit  \n",
       "  0                                   Neuro Stepdown  \n",
       "  1  Neuro Surgical Intensive Care Unit (Neuro SICU)  \n",
       "  2                               Neuro Intermediate  },\n",
       " 'echo': {np.int64(101): {'NumberOfFrames': '58',\n",
       "   'Rows': 708,\n",
       "   'Columns': 1016,\n",
       "   'FrameTime': '33.6842',\n",
       "   'CineRate': '30'}}}"
      ]
     },
     "execution_count": 5,
     "metadata": {},
     "output_type": "execute_result"
    }
   ],
   "source": [
    "ds = EEE_dataset(\n",
    "    [ecg_root, ehr_root, echo_root],\n",
    "    ['ecg', 'ehr', 'echo']\n",
    ")\n",
    "ds[4]"
   ]
  },
  {
   "cell_type": "code",
   "execution_count": 6,
   "id": "7b9466a3",
   "metadata": {},
   "outputs": [
    {
     "data": {
      "text/plain": [
       "{'ecg': {np.int64(101): [array([[ 0.02 ,  0.06 ,  0.04 , ...,  0.035,  0.42 , -0.28 ],\n",
       "          [ 0.   ,  0.075,  0.075, ...,  0.045,  0.41 , -0.295],\n",
       "          [-0.015,  0.075,  0.09 , ...,  0.055,  0.4  , -0.3  ],\n",
       "          ...,\n",
       "          [-0.015, -0.015,  0.   , ..., -0.235,  0.34 , -0.065],\n",
       "          [ 0.   , -0.015, -0.015, ..., -0.235,  0.34 , -0.065],\n",
       "          [ 0.   , -0.02 , -0.02 , ..., -0.225,  0.34 , -0.065]],\n",
       "         shape=(5000, 12)),\n",
       "   {'fs': 500,\n",
       "    'sig_len': 5000,\n",
       "    'n_sig': 12,\n",
       "    'base_date': datetime.date(2180, 8, 6),\n",
       "    'base_time': datetime.time(9, 7),\n",
       "    'units': ['mV',\n",
       "     'mV',\n",
       "     'mV',\n",
       "     'mV',\n",
       "     'mV',\n",
       "     'mV',\n",
       "     'mV',\n",
       "     'mV',\n",
       "     'mV',\n",
       "     'mV',\n",
       "     'mV',\n",
       "     'mV'],\n",
       "    'sig_name': ['I',\n",
       "     'II',\n",
       "     'III',\n",
       "     'aVR',\n",
       "     'aVF',\n",
       "     'aVL',\n",
       "     'V1',\n",
       "     'V2',\n",
       "     'V3',\n",
       "     'V4',\n",
       "     'V5',\n",
       "     'V6'],\n",
       "    'comments': ['<subject_id>: 101']}]},\n",
       " 'ehr': {np.int64(101):    subject_id  hadm_id         admittime  \\\n",
       "  0         101        1  24/02/2196 14:38   \n",
       "  1         101        2  17/09/2153 17:08   \n",
       "  2         101        3  18/08/2134 02:02   \n",
       "  \n",
       "                                      first_careunit  \n",
       "  0                                   Neuro Stepdown  \n",
       "  1  Neuro Surgical Intensive Care Unit (Neuro SICU)  \n",
       "  2                               Neuro Intermediate  },\n",
       " 'echo': {np.int64(101): {'NumberOfFrames': '58',\n",
       "   'Rows': 708,\n",
       "   'Columns': 1016,\n",
       "   'FrameTime': '33.6842',\n",
       "   'CineRate': '30'}}}"
      ]
     },
     "execution_count": 6,
     "metadata": {},
     "output_type": "execute_result"
    }
   ],
   "source": [
    "ds[4]"
   ]
  },
  {
   "cell_type": "code",
   "execution_count": 7,
   "id": "c0defa9b",
   "metadata": {},
   "outputs": [],
   "source": [
    "from group_test.test_102 import *"
   ]
  },
  {
   "cell_type": "code",
   "execution_count": 8,
   "id": "04f7829a",
   "metadata": {},
   "outputs": [
    {
     "name": "stdout",
     "output_type": "stream",
     "text": [
      "   subject_id  hadm_id         admittime       first_careunit\n",
      "0         102        4  13/11/2111 23:39  Trauma SICU (TSICU)\n",
      "1         102        5  04/08/2113 18:46  Trauma SICU (TSICU)\n",
      "2\n"
     ]
    }
   ],
   "source": [
    "test_by_id(102)"
   ]
  }
 ],
 "metadata": {
  "kernelspec": {
   "display_name": "mmai-hackathon",
   "language": "python",
   "name": "python3"
  },
  "language_info": {
   "codemirror_mode": {
    "name": "ipython",
    "version": 3
   },
   "file_extension": ".py",
   "mimetype": "text/x-python",
   "name": "python",
   "nbconvert_exporter": "python",
   "pygments_lexer": "ipython3",
   "version": "3.11.13"
  }
 },
 "nbformat": 4,
 "nbformat_minor": 5
}
